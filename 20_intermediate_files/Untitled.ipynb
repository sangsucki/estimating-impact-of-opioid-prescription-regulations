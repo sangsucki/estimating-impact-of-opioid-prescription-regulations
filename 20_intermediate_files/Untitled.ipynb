{
 "cells": [
  {
   "cell_type": "code",
   "execution_count": 2,
   "metadata": {},
   "outputs": [],
   "source": [
    "library(lme4)\n",
    "library(lmerTest)\n",
    "library(ggplot2)\n",
    "library(lattice)\n",
    "library(sjPlot)\n",
    "library(sjmisc)\n",
    "library(arm)\n",
    "library(pROC)\n",
    "library(e1071)\n",
    "library(caret)\n",
    "library(car)\n",
    "library(knitr)\n",
    "library(mice)"
   ]
  },
  {
   "cell_type": "code",
   "execution_count": 3,
   "metadata": {},
   "outputs": [
    {
     "ename": "ERROR",
     "evalue": "Error: RStudio not running\n",
     "output_type": "error",
     "traceback": [
      "Error: RStudio not running\nTraceback:\n",
      "1. setwd(dirname(rstudioapi::getActiveDocumentContext()$path))",
      "2. dirname(rstudioapi::getActiveDocumentContext()$path)",
      "3. rstudioapi::getActiveDocumentContext()",
      "4. getDocumentContext(\"getActiveDocumentContext\")",
      "5. callFun(fn)",
      "6. verifyAvailable()",
      "7. stop(\"RStudio not running\", call. = FALSE)"
     ]
    }
   ],
   "source": [
    "setwd(dirname(rstudioapi::getActiveDocumentContext()$path))\n",
    "df <- read.csv(\"treeage.txt\",header=TRUE)\n",
    "##generate random NA in age\n",
    "rows <- length(df[,1])\n",
    "set.seed(123)\n",
    "a <-sample(1:rows, as.integer(rows*0.3), replace=FALSE)\n",
    "df[a,]$age<-NA\n",
    "#df$age <- as.integer(df$age)\n",
    "summary(df)"
   ]
  },
  {
   "cell_type": "code",
   "execution_count": null,
   "metadata": {},
   "outputs": [],
   "source": []
  }
 ],
 "metadata": {
  "kernelspec": {
   "display_name": "R",
   "language": "R",
   "name": "ir"
  },
  "language_info": {
   "codemirror_mode": "r",
   "file_extension": ".r",
   "mimetype": "text/x-r-source",
   "name": "R",
   "pygments_lexer": "r",
   "version": "3.6.1"
  }
 },
 "nbformat": 4,
 "nbformat_minor": 4
}
