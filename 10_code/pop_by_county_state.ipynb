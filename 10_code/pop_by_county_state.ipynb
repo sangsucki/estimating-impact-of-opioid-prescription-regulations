{
 "cells": [
  {
   "cell_type": "code",
   "execution_count": 1,
   "metadata": {},
   "outputs": [],
   "source": [
    "import pandas as pd\n",
    "import os\n",
    "\n",
    "# os.listdir('./00_source/population/')"
   ]
  },
  {
   "cell_type": "markdown",
   "metadata": {},
   "source": [
    "### 2015"
   ]
  },
  {
   "cell_type": "code",
   "execution_count": 2,
   "metadata": {},
   "outputs": [],
   "source": [
    "df_2015 = pd.read_csv('./00_source/population/nhgis0002_ds215_20155_2015_county.csv', encoding='latin-1')"
   ]
  },
  {
   "cell_type": "code",
   "execution_count": 3,
   "metadata": {
    "scrolled": true
   },
   "outputs": [],
   "source": [
    "is_none = df_2015.columns[df_2015.isna().any()].tolist()"
   ]
  },
  {
   "cell_type": "code",
   "execution_count": 4,
   "metadata": {},
   "outputs": [],
   "source": [
    "df_cleaned_2015 = df_2015.drop(columns=is_none)"
   ]
  },
  {
   "cell_type": "code",
   "execution_count": 5,
   "metadata": {},
   "outputs": [],
   "source": [
    "df_2015 = df_cleaned_2015.drop(columns=['GISJOIN', 'NAME_M', 'ADKWM001'])"
   ]
  },
  {
   "cell_type": "code",
   "execution_count": 6,
   "metadata": {},
   "outputs": [],
   "source": [
    "df_2015 = df_2015.rename(columns={'ADKWE001': 'population'})"
   ]
  },
  {
   "cell_type": "code",
   "execution_count": 7,
   "metadata": {},
   "outputs": [],
   "source": [
    "df_2015['year'] = 2015"
   ]
  },
  {
   "cell_type": "code",
   "execution_count": 8,
   "metadata": {},
   "outputs": [],
   "source": [
    "df_2015 = df_2015.drop(columns='YEAR')"
   ]
  },
  {
   "cell_type": "code",
   "execution_count": 9,
   "metadata": {},
   "outputs": [],
   "source": [
    "df_2015['countyfips'] = df_2015['STATEA'] * 1000 + df_2015['COUNTYA']"
   ]
  },
  {
   "cell_type": "code",
   "execution_count": 10,
   "metadata": {},
   "outputs": [],
   "source": [
    "statea_name_dict = dict(zip(df_2015['STATEA'], df_2015['STATE']))"
   ]
  },
  {
   "cell_type": "markdown",
   "metadata": {},
   "source": [
    "### 2006 - 2012"
   ]
  },
  {
   "cell_type": "code",
   "execution_count": 11,
   "metadata": {},
   "outputs": [],
   "source": [
    "data_all = pd.read_csv('./00_source/population/pop_counties_20062012.csv')"
   ]
  },
  {
   "cell_type": "code",
   "execution_count": 12,
   "metadata": {},
   "outputs": [],
   "source": [
    "data_all = data_all.reset_index(drop=True)"
   ]
  },
  {
   "cell_type": "code",
   "execution_count": 13,
   "metadata": {},
   "outputs": [],
   "source": [
    "statea_code_dict = dict(zip(data_all['STATE'], data_all['BUYER_STATE']))\n",
    "county_dict = dict(zip(data_all['COUNTY'], data_all['county_name']))"
   ]
  },
  {
   "cell_type": "code",
   "execution_count": 14,
   "metadata": {},
   "outputs": [],
   "source": [
    "df_2012 = data_all[data_all['year'] == 2012]"
   ]
  },
  {
   "cell_type": "markdown",
   "metadata": {},
   "source": [
    "### 2013 - 2015"
   ]
  },
  {
   "cell_type": "code",
   "execution_count": 15,
   "metadata": {},
   "outputs": [],
   "source": [
    "data_main = df_2012.copy()"
   ]
  },
  {
   "cell_type": "code",
   "execution_count": 16,
   "metadata": {},
   "outputs": [],
   "source": [
    "data_main = data_main.rename(columns={'population':'population_2012'})"
   ]
  },
  {
   "cell_type": "code",
   "execution_count": 17,
   "metadata": {},
   "outputs": [],
   "source": [
    "a = data_main['countyfips'].reset_index(0)"
   ]
  },
  {
   "cell_type": "code",
   "execution_count": 18,
   "metadata": {},
   "outputs": [],
   "source": [
    "df_2015 = df_2015.rename(columns={'population': 'population_2015'})"
   ]
  },
  {
   "cell_type": "code",
   "execution_count": 19,
   "metadata": {},
   "outputs": [],
   "source": [
    "data_merged = data_main.merge(df_2015, how='outer', on='countyfips', indicator=True)"
   ]
  },
  {
   "cell_type": "code",
   "execution_count": 20,
   "metadata": {},
   "outputs": [],
   "source": [
    "data_merged = data_main.merge(df_2015, how='left', on='countyfips', indicator=True)"
   ]
  },
  {
   "cell_type": "code",
   "execution_count": 21,
   "metadata": {},
   "outputs": [],
   "source": [
    "data_main = data_main.set_index('countyfips')"
   ]
  },
  {
   "cell_type": "code",
   "execution_count": 22,
   "metadata": {},
   "outputs": [],
   "source": [
    "data_merged = data_merged.set_index('countyfips')"
   ]
  },
  {
   "cell_type": "code",
   "execution_count": 23,
   "metadata": {},
   "outputs": [],
   "source": [
    "data_main['population_2015'] = data_merged['population_2015']"
   ]
  },
  {
   "cell_type": "code",
   "execution_count": 24,
   "metadata": {},
   "outputs": [],
   "source": [
    "data_main['population_2013'] = round((data_main['population_2015'] - data_main['population_2012']) / 3 + data_main['population_2012'])"
   ]
  },
  {
   "cell_type": "code",
   "execution_count": 25,
   "metadata": {},
   "outputs": [],
   "source": [
    "data_main['population_2014'] = round((data_main['population_2015'] - data_main['population_2012']) / 3 + data_main['population_2013'])"
   ]
  },
  {
   "cell_type": "code",
   "execution_count": 26,
   "metadata": {},
   "outputs": [],
   "source": [
    "df_13 = data_all.copy()"
   ]
  },
  {
   "cell_type": "code",
   "execution_count": 27,
   "metadata": {},
   "outputs": [],
   "source": [
    "df_13 = data_main.copy()\n",
    "df_13 = df_13.drop(columns=['population_2015', 'population_2014', 'population_2012'])\n",
    "df_13['year'] = 2013\n",
    "df_13 = df_13.reset_index()\n",
    "df_13 = df_13.rename(columns={'population_2013': 'population'})"
   ]
  },
  {
   "cell_type": "code",
   "execution_count": 28,
   "metadata": {},
   "outputs": [],
   "source": [
    "df_14 = data_main.copy()\n",
    "df_14 = df_14.drop(columns=['population_2015', 'population_2013', 'population_2012'])\n",
    "df_14['year'] = 2014\n",
    "df_14 = df_14.reset_index()\n",
    "df_14 = df_14.rename(columns={'population_2014': 'population'})"
   ]
  },
  {
   "cell_type": "code",
   "execution_count": 29,
   "metadata": {},
   "outputs": [],
   "source": [
    "df_15 = data_main.copy()\n",
    "df_15 = df_15.drop(columns=['population_2013', 'population_2014', 'population_2012'])\n",
    "df_15['year'] = 2015\n",
    "df_15 = df_15.reset_index()\n",
    "df_15 = df_15.rename(columns={'population_2015': 'population'})"
   ]
  },
  {
   "cell_type": "code",
   "execution_count": 30,
   "metadata": {},
   "outputs": [],
   "source": [
    "data_all = data_all.append(df_13, sort=True)"
   ]
  },
  {
   "cell_type": "code",
   "execution_count": 31,
   "metadata": {},
   "outputs": [],
   "source": [
    "data_all = data_all.append(df_14, sort=True)"
   ]
  },
  {
   "cell_type": "code",
   "execution_count": 32,
   "metadata": {},
   "outputs": [],
   "source": [
    "data_all = data_all.append(df_15, sort=True)"
   ]
  },
  {
   "cell_type": "code",
   "execution_count": 33,
   "metadata": {},
   "outputs": [],
   "source": [
    "data_all = data_all.drop(columns=['BUYER_COUNTY', 'NAME', 'variable'])\n",
    "data_all = data_all.rename(columns={'STATE': 'STATEA', 'BUYER_STATE':'STATE', 'COUNTY': 'COUNTYA'})"
   ]
  },
  {
   "cell_type": "markdown",
   "metadata": {},
   "source": [
    "### 2003"
   ]
  },
  {
   "cell_type": "code",
   "execution_count": 34,
   "metadata": {},
   "outputs": [],
   "source": [
    "df_03 = pd.read_csv('./00_source/population/nhgis0002_ds231_2003_county.csv')\n",
    "df_03 = df_03.reset_index(drop=True)\n",
    "df_03 = df_03.drop(columns=['GISJOIN', 'DATAFLAG', 'NOTECODE', 'AREANAME', 'STATE'])\n",
    "df_03 = df_03.rename(columns={'YEAR': 'year', 'AGWD001': 'population', 'COUNTY': 'county_name'})\n",
    "df_03['STATEA'] = df_03['STATEA'].apply(lambda x: x//10)\n",
    "df_03['COUNTYA'] = df_03['COUNTYA'].apply(lambda x: x//10)\n",
    "df_03['STATE'] = df_03['STATEA'].apply(lambda x: statea_code_dict[x])\n",
    "df_03['countyfips'] = df_03['STATEA'] * 1000 + df_03['COUNTYA']"
   ]
  },
  {
   "cell_type": "code",
   "execution_count": 35,
   "metadata": {},
   "outputs": [],
   "source": [
    "data_all = data_all.append(df_03, sort=True)"
   ]
  },
  {
   "cell_type": "markdown",
   "metadata": {},
   "source": [
    "### 2004"
   ]
  },
  {
   "cell_type": "code",
   "execution_count": 36,
   "metadata": {},
   "outputs": [],
   "source": [
    "df_04 = pd.read_csv('./00_source/population/nhgis0002_ds231_2004_county.csv')\n",
    "df_04 = df_04.reset_index(drop=True)\n",
    "df_04 = df_04.drop(columns=['GISJOIN', 'DATAFLAG', 'NOTECODE', 'AREANAME', 'STATE'])\n",
    "df_04 = df_04.rename(columns={'YEAR': 'year', 'AGWD001': 'population', 'COUNTY': 'county_name'})\n",
    "df_04['STATEA'] = df_04['STATEA'].apply(lambda x: x//10)\n",
    "df_04['COUNTYA'] = df_04['COUNTYA'].apply(lambda x: x//10)\n",
    "df_04['STATE'] = df_04['STATEA'].apply(lambda x: statea_code_dict[x])\n",
    "df_04['countyfips'] = df_04['STATEA'] * 1000 + df_04['COUNTYA']"
   ]
  },
  {
   "cell_type": "code",
   "execution_count": 37,
   "metadata": {},
   "outputs": [],
   "source": [
    "data_all = data_all.append(df_04, sort=True)"
   ]
  },
  {
   "cell_type": "markdown",
   "metadata": {},
   "source": [
    "### 2005"
   ]
  },
  {
   "cell_type": "code",
   "execution_count": 38,
   "metadata": {},
   "outputs": [],
   "source": [
    "df_05 = pd.read_csv('./00_source/population/nhgis0002_ds231_2005_county.csv')\n",
    "df_05 = df_05.reset_index(drop=True)\n",
    "df_05 = df_05.drop(columns=['GISJOIN', 'DATAFLAG', 'NOTECODE', 'AREANAME', 'STATE'])\n",
    "df_05 = df_05.rename(columns={'YEAR': 'year', 'AGWD001': 'population', 'COUNTY': 'county_name'})\n",
    "df_05['STATEA'] = df_05['STATEA'].apply(lambda x: x//10)\n",
    "df_05['COUNTYA'] = df_05['COUNTYA'].apply(lambda x: x//10)\n",
    "df_05['STATE'] = df_05['STATEA'].apply(lambda x: statea_code_dict[x])\n",
    "df_05['countyfips'] = df_05['STATEA'] * 1000 + df_05['COUNTYA']"
   ]
  },
  {
   "cell_type": "code",
   "execution_count": 39,
   "metadata": {},
   "outputs": [],
   "source": [
    "data_all = data_all.append(df_05, sort=True)"
   ]
  },
  {
   "cell_type": "markdown",
   "metadata": {},
   "source": [
    "#### clean all data"
   ]
  },
  {
   "cell_type": "code",
   "execution_count": 40,
   "metadata": {},
   "outputs": [],
   "source": [
    "data_all = data_all.sort_values(by=['year', 'STATEA'])\n",
    "data_all = data_all.reset_index(drop=True)"
   ]
  },
  {
   "cell_type": "code",
   "execution_count": 46,
   "metadata": {},
   "outputs": [],
   "source": [
    "data_all = data_all.rename(columns={'county_name': 'county', 'STATE': 'state'})"
   ]
  },
  {
   "cell_type": "code",
   "execution_count": 47,
   "metadata": {},
   "outputs": [
    {
     "data": {
      "text/html": [
       "<div>\n",
       "<style scoped>\n",
       "    .dataframe tbody tr th:only-of-type {\n",
       "        vertical-align: middle;\n",
       "    }\n",
       "\n",
       "    .dataframe tbody tr th {\n",
       "        vertical-align: top;\n",
       "    }\n",
       "\n",
       "    .dataframe thead th {\n",
       "        text-align: right;\n",
       "    }\n",
       "</style>\n",
       "<table border=\"1\" class=\"dataframe\">\n",
       "  <thead>\n",
       "    <tr style=\"text-align: right;\">\n",
       "      <th></th>\n",
       "      <th>COUNTYA</th>\n",
       "      <th>state</th>\n",
       "      <th>STATEA</th>\n",
       "      <th>county</th>\n",
       "      <th>countyfips</th>\n",
       "      <th>population</th>\n",
       "      <th>year</th>\n",
       "    </tr>\n",
       "  </thead>\n",
       "  <tbody>\n",
       "    <tr>\n",
       "      <th>0</th>\n",
       "      <td>1</td>\n",
       "      <td>AL</td>\n",
       "      <td>1</td>\n",
       "      <td>Autauga</td>\n",
       "      <td>1001</td>\n",
       "      <td>46348.0</td>\n",
       "      <td>2003</td>\n",
       "    </tr>\n",
       "    <tr>\n",
       "      <th>1</th>\n",
       "      <td>3</td>\n",
       "      <td>AL</td>\n",
       "      <td>1</td>\n",
       "      <td>Baldwin</td>\n",
       "      <td>1003</td>\n",
       "      <td>151574.0</td>\n",
       "      <td>2003</td>\n",
       "    </tr>\n",
       "    <tr>\n",
       "      <th>2</th>\n",
       "      <td>5</td>\n",
       "      <td>AL</td>\n",
       "      <td>1</td>\n",
       "      <td>Barbour</td>\n",
       "      <td>1005</td>\n",
       "      <td>28805.0</td>\n",
       "      <td>2003</td>\n",
       "    </tr>\n",
       "    <tr>\n",
       "      <th>3</th>\n",
       "      <td>7</td>\n",
       "      <td>AL</td>\n",
       "      <td>1</td>\n",
       "      <td>Bibb</td>\n",
       "      <td>1007</td>\n",
       "      <td>21224.0</td>\n",
       "      <td>2003</td>\n",
       "    </tr>\n",
       "    <tr>\n",
       "      <th>4</th>\n",
       "      <td>9</td>\n",
       "      <td>AL</td>\n",
       "      <td>1</td>\n",
       "      <td>Blount</td>\n",
       "      <td>1009</td>\n",
       "      <td>54195.0</td>\n",
       "      <td>2003</td>\n",
       "    </tr>\n",
       "    <tr>\n",
       "      <th>...</th>\n",
       "      <td>...</td>\n",
       "      <td>...</td>\n",
       "      <td>...</td>\n",
       "      <td>...</td>\n",
       "      <td>...</td>\n",
       "      <td>...</td>\n",
       "      <td>...</td>\n",
       "    </tr>\n",
       "    <tr>\n",
       "      <th>40854</th>\n",
       "      <td>37</td>\n",
       "      <td>WY</td>\n",
       "      <td>56</td>\n",
       "      <td>Sweetwater</td>\n",
       "      <td>56037</td>\n",
       "      <td>44772.0</td>\n",
       "      <td>2015</td>\n",
       "    </tr>\n",
       "    <tr>\n",
       "      <th>40855</th>\n",
       "      <td>39</td>\n",
       "      <td>WY</td>\n",
       "      <td>56</td>\n",
       "      <td>Teton</td>\n",
       "      <td>56039</td>\n",
       "      <td>22311.0</td>\n",
       "      <td>2015</td>\n",
       "    </tr>\n",
       "    <tr>\n",
       "      <th>40856</th>\n",
       "      <td>41</td>\n",
       "      <td>WY</td>\n",
       "      <td>56</td>\n",
       "      <td>Uinta</td>\n",
       "      <td>56041</td>\n",
       "      <td>20930.0</td>\n",
       "      <td>2015</td>\n",
       "    </tr>\n",
       "    <tr>\n",
       "      <th>40857</th>\n",
       "      <td>43</td>\n",
       "      <td>WY</td>\n",
       "      <td>56</td>\n",
       "      <td>Washakie</td>\n",
       "      <td>56043</td>\n",
       "      <td>8400.0</td>\n",
       "      <td>2015</td>\n",
       "    </tr>\n",
       "    <tr>\n",
       "      <th>40858</th>\n",
       "      <td>45</td>\n",
       "      <td>WY</td>\n",
       "      <td>56</td>\n",
       "      <td>Weston</td>\n",
       "      <td>56045</td>\n",
       "      <td>7152.0</td>\n",
       "      <td>2015</td>\n",
       "    </tr>\n",
       "  </tbody>\n",
       "</table>\n",
       "<p>40859 rows × 7 columns</p>\n",
       "</div>"
      ],
      "text/plain": [
       "       COUNTYA state  STATEA      county  countyfips  population  year\n",
       "0            1    AL       1     Autauga        1001     46348.0  2003\n",
       "1            3    AL       1     Baldwin        1003    151574.0  2003\n",
       "2            5    AL       1     Barbour        1005     28805.0  2003\n",
       "3            7    AL       1        Bibb        1007     21224.0  2003\n",
       "4            9    AL       1      Blount        1009     54195.0  2003\n",
       "...        ...   ...     ...         ...         ...         ...   ...\n",
       "40854       37    WY      56  Sweetwater       56037     44772.0  2015\n",
       "40855       39    WY      56       Teton       56039     22311.0  2015\n",
       "40856       41    WY      56       Uinta       56041     20930.0  2015\n",
       "40857       43    WY      56    Washakie       56043      8400.0  2015\n",
       "40858       45    WY      56      Weston       56045      7152.0  2015\n",
       "\n",
       "[40859 rows x 7 columns]"
      ]
     },
     "execution_count": 47,
     "metadata": {},
     "output_type": "execute_result"
    }
   ],
   "source": [
    "data_all"
   ]
  },
  {
   "cell_type": "code",
   "execution_count": 51,
   "metadata": {},
   "outputs": [],
   "source": [
    "cols=['year', 'state', 'county', 'STATEA', 'COUNTYA', 'countyfips', 'population']\n",
    "data_all.to_csv('./00_source/population/population_03-15.csv', index=False, columns=cols)"
   ]
  },
  {
   "cell_type": "markdown",
   "metadata": {},
   "source": [
    "## group by state"
   ]
  },
  {
   "cell_type": "code",
   "execution_count": 56,
   "metadata": {},
   "outputs": [
    {
     "data": {
      "text/html": [
       "<div>\n",
       "<style scoped>\n",
       "    .dataframe tbody tr th:only-of-type {\n",
       "        vertical-align: middle;\n",
       "    }\n",
       "\n",
       "    .dataframe tbody tr th {\n",
       "        vertical-align: top;\n",
       "    }\n",
       "\n",
       "    .dataframe thead th {\n",
       "        text-align: right;\n",
       "    }\n",
       "</style>\n",
       "<table border=\"1\" class=\"dataframe\">\n",
       "  <thead>\n",
       "    <tr style=\"text-align: right;\">\n",
       "      <th></th>\n",
       "      <th>COUNTYA</th>\n",
       "      <th>state</th>\n",
       "      <th>STATEA</th>\n",
       "      <th>county</th>\n",
       "      <th>countyfips</th>\n",
       "      <th>population</th>\n",
       "      <th>year</th>\n",
       "    </tr>\n",
       "  </thead>\n",
       "  <tbody>\n",
       "    <tr>\n",
       "      <th>0</th>\n",
       "      <td>1</td>\n",
       "      <td>AL</td>\n",
       "      <td>1</td>\n",
       "      <td>Autauga</td>\n",
       "      <td>1001</td>\n",
       "      <td>46348.0</td>\n",
       "      <td>2003</td>\n",
       "    </tr>\n",
       "    <tr>\n",
       "      <th>1</th>\n",
       "      <td>3</td>\n",
       "      <td>AL</td>\n",
       "      <td>1</td>\n",
       "      <td>Baldwin</td>\n",
       "      <td>1003</td>\n",
       "      <td>151574.0</td>\n",
       "      <td>2003</td>\n",
       "    </tr>\n",
       "    <tr>\n",
       "      <th>2</th>\n",
       "      <td>5</td>\n",
       "      <td>AL</td>\n",
       "      <td>1</td>\n",
       "      <td>Barbour</td>\n",
       "      <td>1005</td>\n",
       "      <td>28805.0</td>\n",
       "      <td>2003</td>\n",
       "    </tr>\n",
       "    <tr>\n",
       "      <th>3</th>\n",
       "      <td>7</td>\n",
       "      <td>AL</td>\n",
       "      <td>1</td>\n",
       "      <td>Bibb</td>\n",
       "      <td>1007</td>\n",
       "      <td>21224.0</td>\n",
       "      <td>2003</td>\n",
       "    </tr>\n",
       "    <tr>\n",
       "      <th>4</th>\n",
       "      <td>9</td>\n",
       "      <td>AL</td>\n",
       "      <td>1</td>\n",
       "      <td>Blount</td>\n",
       "      <td>1009</td>\n",
       "      <td>54195.0</td>\n",
       "      <td>2003</td>\n",
       "    </tr>\n",
       "    <tr>\n",
       "      <th>...</th>\n",
       "      <td>...</td>\n",
       "      <td>...</td>\n",
       "      <td>...</td>\n",
       "      <td>...</td>\n",
       "      <td>...</td>\n",
       "      <td>...</td>\n",
       "      <td>...</td>\n",
       "    </tr>\n",
       "    <tr>\n",
       "      <th>40854</th>\n",
       "      <td>37</td>\n",
       "      <td>WY</td>\n",
       "      <td>56</td>\n",
       "      <td>Sweetwater</td>\n",
       "      <td>56037</td>\n",
       "      <td>44772.0</td>\n",
       "      <td>2015</td>\n",
       "    </tr>\n",
       "    <tr>\n",
       "      <th>40855</th>\n",
       "      <td>39</td>\n",
       "      <td>WY</td>\n",
       "      <td>56</td>\n",
       "      <td>Teton</td>\n",
       "      <td>56039</td>\n",
       "      <td>22311.0</td>\n",
       "      <td>2015</td>\n",
       "    </tr>\n",
       "    <tr>\n",
       "      <th>40856</th>\n",
       "      <td>41</td>\n",
       "      <td>WY</td>\n",
       "      <td>56</td>\n",
       "      <td>Uinta</td>\n",
       "      <td>56041</td>\n",
       "      <td>20930.0</td>\n",
       "      <td>2015</td>\n",
       "    </tr>\n",
       "    <tr>\n",
       "      <th>40857</th>\n",
       "      <td>43</td>\n",
       "      <td>WY</td>\n",
       "      <td>56</td>\n",
       "      <td>Washakie</td>\n",
       "      <td>56043</td>\n",
       "      <td>8400.0</td>\n",
       "      <td>2015</td>\n",
       "    </tr>\n",
       "    <tr>\n",
       "      <th>40858</th>\n",
       "      <td>45</td>\n",
       "      <td>WY</td>\n",
       "      <td>56</td>\n",
       "      <td>Weston</td>\n",
       "      <td>56045</td>\n",
       "      <td>7152.0</td>\n",
       "      <td>2015</td>\n",
       "    </tr>\n",
       "  </tbody>\n",
       "</table>\n",
       "<p>40859 rows × 7 columns</p>\n",
       "</div>"
      ],
      "text/plain": [
       "       COUNTYA state  STATEA      county  countyfips  population  year\n",
       "0            1    AL       1     Autauga        1001     46348.0  2003\n",
       "1            3    AL       1     Baldwin        1003    151574.0  2003\n",
       "2            5    AL       1     Barbour        1005     28805.0  2003\n",
       "3            7    AL       1        Bibb        1007     21224.0  2003\n",
       "4            9    AL       1      Blount        1009     54195.0  2003\n",
       "...        ...   ...     ...         ...         ...         ...   ...\n",
       "40854       37    WY      56  Sweetwater       56037     44772.0  2015\n",
       "40855       39    WY      56       Teton       56039     22311.0  2015\n",
       "40856       41    WY      56       Uinta       56041     20930.0  2015\n",
       "40857       43    WY      56    Washakie       56043      8400.0  2015\n",
       "40858       45    WY      56      Weston       56045      7152.0  2015\n",
       "\n",
       "[40859 rows x 7 columns]"
      ]
     },
     "execution_count": 56,
     "metadata": {},
     "output_type": "execute_result"
    }
   ],
   "source": [
    "data_all"
   ]
  },
  {
   "cell_type": "code",
   "execution_count": 61,
   "metadata": {},
   "outputs": [],
   "source": [
    "data_state = data_all.groupby(['state', 'year'], as_index=False)['population'].agg('sum')"
   ]
  },
  {
   "cell_type": "code",
   "execution_count": 63,
   "metadata": {},
   "outputs": [],
   "source": [
    "data_state.to_csv('./00_source/population/state_population_03-15.csv', index=False)"
   ]
  },
  {
   "cell_type": "code",
   "execution_count": null,
   "metadata": {},
   "outputs": [],
   "source": []
  }
 ],
 "metadata": {
  "kernelspec": {
   "display_name": "Python 3",
   "language": "python",
   "name": "python3"
  },
  "language_info": {
   "codemirror_mode": {
    "name": "ipython",
    "version": 3
   },
   "file_extension": ".py",
   "mimetype": "text/x-python",
   "name": "python",
   "nbconvert_exporter": "python",
   "pygments_lexer": "ipython3",
   "version": "3.7.4"
  }
 },
 "nbformat": 4,
 "nbformat_minor": 4
}
