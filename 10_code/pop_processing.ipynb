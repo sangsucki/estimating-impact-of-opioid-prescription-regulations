{
 "cells": [
  {
   "cell_type": "code",
   "execution_count": 3,
   "metadata": {},
   "outputs": [
    {
     "name": "stdout",
     "output_type": "stream",
     "text": [
      "/Users/hao\n"
     ]
    }
   ],
   "source": [
    "%% cd\n",
    "cd Desktop/data_science_python/estimating-impact-of-opioid-prescription-regulations-team-7/00_source/population/pop_counties_20062012.csv"
   ]
  },
  {
   "cell_type": "code",
   "execution_count": null,
   "metadata": {},
   "outputs": [],
   "source": [
    "import pandas as pd"
   ]
  },
  {
   "cell_type": "code",
   "execution_count": 4,
   "metadata": {},
   "outputs": [],
   "source": [
    "pop = pd.read_csv('Desktop/data_science_python/estimating-impact-of-opioid-prescription-regulations-team-7/00_source/population/pop_counties_20062012.csv')"
   ]
  },
  {
   "cell_type": "code",
   "execution_count": 5,
   "metadata": {},
   "outputs": [
    {
     "data": {
      "text/html": [
       "<div>\n",
       "<style scoped>\n",
       "    .dataframe tbody tr th:only-of-type {\n",
       "        vertical-align: middle;\n",
       "    }\n",
       "\n",
       "    .dataframe tbody tr th {\n",
       "        vertical-align: top;\n",
       "    }\n",
       "\n",
       "    .dataframe thead th {\n",
       "        text-align: right;\n",
       "    }\n",
       "</style>\n",
       "<table border=\"1\" class=\"dataframe\">\n",
       "  <thead>\n",
       "    <tr style=\"text-align: right;\">\n",
       "      <th></th>\n",
       "      <th>BUYER_COUNTY</th>\n",
       "      <th>BUYER_STATE</th>\n",
       "      <th>countyfips</th>\n",
       "      <th>STATE</th>\n",
       "      <th>COUNTY</th>\n",
       "      <th>county_name</th>\n",
       "      <th>NAME</th>\n",
       "      <th>variable</th>\n",
       "      <th>year</th>\n",
       "      <th>population</th>\n",
       "    </tr>\n",
       "  </thead>\n",
       "  <tbody>\n",
       "    <tr>\n",
       "      <td>0</td>\n",
       "      <td>AUTAUGA</td>\n",
       "      <td>AL</td>\n",
       "      <td>1001</td>\n",
       "      <td>1</td>\n",
       "      <td>1</td>\n",
       "      <td>Autauga</td>\n",
       "      <td>Autauga County, Alabama</td>\n",
       "      <td>POPESTIMATE2006</td>\n",
       "      <td>2006</td>\n",
       "      <td>51328.0</td>\n",
       "    </tr>\n",
       "    <tr>\n",
       "      <td>1</td>\n",
       "      <td>BALDWIN</td>\n",
       "      <td>AL</td>\n",
       "      <td>1003</td>\n",
       "      <td>1</td>\n",
       "      <td>3</td>\n",
       "      <td>Baldwin</td>\n",
       "      <td>Baldwin County, Alabama</td>\n",
       "      <td>POPESTIMATE2006</td>\n",
       "      <td>2006</td>\n",
       "      <td>168121.0</td>\n",
       "    </tr>\n",
       "    <tr>\n",
       "      <td>2</td>\n",
       "      <td>BARBOUR</td>\n",
       "      <td>AL</td>\n",
       "      <td>1005</td>\n",
       "      <td>1</td>\n",
       "      <td>5</td>\n",
       "      <td>Barbour</td>\n",
       "      <td>Barbour County, Alabama</td>\n",
       "      <td>POPESTIMATE2006</td>\n",
       "      <td>2006</td>\n",
       "      <td>27861.0</td>\n",
       "    </tr>\n",
       "    <tr>\n",
       "      <td>3</td>\n",
       "      <td>BIBB</td>\n",
       "      <td>AL</td>\n",
       "      <td>1007</td>\n",
       "      <td>1</td>\n",
       "      <td>7</td>\n",
       "      <td>Bibb</td>\n",
       "      <td>Bibb County, Alabama</td>\n",
       "      <td>POPESTIMATE2006</td>\n",
       "      <td>2006</td>\n",
       "      <td>22099.0</td>\n",
       "    </tr>\n",
       "    <tr>\n",
       "      <td>4</td>\n",
       "      <td>BLOUNT</td>\n",
       "      <td>AL</td>\n",
       "      <td>1009</td>\n",
       "      <td>1</td>\n",
       "      <td>9</td>\n",
       "      <td>Blount</td>\n",
       "      <td>Blount County, Alabama</td>\n",
       "      <td>POPESTIMATE2006</td>\n",
       "      <td>2006</td>\n",
       "      <td>55485.0</td>\n",
       "    </tr>\n",
       "  </tbody>\n",
       "</table>\n",
       "</div>"
      ],
      "text/plain": [
       "  BUYER_COUNTY BUYER_STATE  countyfips  STATE  COUNTY county_name  \\\n",
       "0      AUTAUGA          AL        1001      1       1     Autauga   \n",
       "1      BALDWIN          AL        1003      1       3     Baldwin   \n",
       "2      BARBOUR          AL        1005      1       5     Barbour   \n",
       "3         BIBB          AL        1007      1       7        Bibb   \n",
       "4       BLOUNT          AL        1009      1       9      Blount   \n",
       "\n",
       "                      NAME         variable  year  population  \n",
       "0  Autauga County, Alabama  POPESTIMATE2006  2006     51328.0  \n",
       "1  Baldwin County, Alabama  POPESTIMATE2006  2006    168121.0  \n",
       "2  Barbour County, Alabama  POPESTIMATE2006  2006     27861.0  \n",
       "3     Bibb County, Alabama  POPESTIMATE2006  2006     22099.0  \n",
       "4   Blount County, Alabama  POPESTIMATE2006  2006     55485.0  "
      ]
     },
     "execution_count": 5,
     "metadata": {},
     "output_type": "execute_result"
    }
   ],
   "source": [
    "pop.head()"
   ]
  },
  {
   "cell_type": "code",
   "execution_count": 6,
   "metadata": {},
   "outputs": [],
   "source": [
    "fips = pd.read_csv('Desktop/data_science_python/estimating-impact-of-opioid-prescription-regulations-team-7/00_source/population/county_fips.csv')"
   ]
  },
  {
   "cell_type": "code",
   "execution_count": 7,
   "metadata": {},
   "outputs": [
    {
     "data": {
      "text/html": [
       "<div>\n",
       "<style scoped>\n",
       "    .dataframe tbody tr th:only-of-type {\n",
       "        vertical-align: middle;\n",
       "    }\n",
       "\n",
       "    .dataframe tbody tr th {\n",
       "        vertical-align: top;\n",
       "    }\n",
       "\n",
       "    .dataframe thead th {\n",
       "        text-align: right;\n",
       "    }\n",
       "</style>\n",
       "<table border=\"1\" class=\"dataframe\">\n",
       "  <thead>\n",
       "    <tr style=\"text-align: right;\">\n",
       "      <th></th>\n",
       "      <th>BUYER_COUNTY</th>\n",
       "      <th>BUYER_STATE</th>\n",
       "      <th>countyfips</th>\n",
       "    </tr>\n",
       "  </thead>\n",
       "  <tbody>\n",
       "    <tr>\n",
       "      <td>0</td>\n",
       "      <td>AUTAUGA</td>\n",
       "      <td>AL</td>\n",
       "      <td>1001</td>\n",
       "    </tr>\n",
       "    <tr>\n",
       "      <td>1</td>\n",
       "      <td>BALDWIN</td>\n",
       "      <td>AL</td>\n",
       "      <td>1003</td>\n",
       "    </tr>\n",
       "    <tr>\n",
       "      <td>2</td>\n",
       "      <td>BARBOUR</td>\n",
       "      <td>AL</td>\n",
       "      <td>1005</td>\n",
       "    </tr>\n",
       "    <tr>\n",
       "      <td>3</td>\n",
       "      <td>BIBB</td>\n",
       "      <td>AL</td>\n",
       "      <td>1007</td>\n",
       "    </tr>\n",
       "    <tr>\n",
       "      <td>4</td>\n",
       "      <td>BLOUNT</td>\n",
       "      <td>AL</td>\n",
       "      <td>1009</td>\n",
       "    </tr>\n",
       "  </tbody>\n",
       "</table>\n",
       "</div>"
      ],
      "text/plain": [
       "  BUYER_COUNTY BUYER_STATE  countyfips\n",
       "0      AUTAUGA          AL        1001\n",
       "1      BALDWIN          AL        1003\n",
       "2      BARBOUR          AL        1005\n",
       "3         BIBB          AL        1007\n",
       "4       BLOUNT          AL        1009"
      ]
     },
     "execution_count": 7,
     "metadata": {},
     "output_type": "execute_result"
    }
   ],
   "source": [
    "fips.head()"
   ]
  },
  {
   "cell_type": "code",
   "execution_count": 9,
   "metadata": {},
   "outputs": [
    {
     "ename": "ValueError",
     "evalue": "('Multiple files found in compressed zip file %s', \"['nhgis0001_csv/nhgis0001_ds184_20115_2011_county_codebook.txt', 'nhgis0001_csv/nhgis0001_ds231_1990_state.csv', 'nhgis0001_csv/nhgis0001_ds231_1970_state.csv', 'nhgis0001_csv/nhgis0001_ds184_20115_2011_state.csv', 'nhgis0001_csv/nhgis0001_ds231_1997_state_codebook.txt', 'nhgis0001_csv/nhgis0001_ds231_1975_state.csv', 'nhgis0001_csv/nhgis0001_ds231_2001_state_codebook.txt', 'nhgis0001_csv/nhgis0001_ds231_1975_state_codebook.txt', 'nhgis0001_csv/nhgis0001_ds231_1991_county.csv', 'nhgis0001_csv/nhgis0001_ds231_1993_county.csv', 'nhgis0001_csv/nhgis0001_ds231_1996_county_codebook.txt', 'nhgis0001_csv/nhgis0001_ds215_20155_2015_county.csv', 'nhgis0001_csv/nhgis0001_ds231_1999_state.csv', 'nhgis0001_csv/nhgis0001_ds231_1996_county.csv', 'nhgis0001_csv/nhgis0001_ds231_1999_county.csv', 'nhgis0001_csv/nhgis0001_ds231_2001_county.csv', 'nhgis0001_csv/nhgis0001_ds231_2007_state_codebook.txt', 'nhgis0001_csv/nhgis0001_ds231_2005_state.csv', 'nhgis0001_csv/nhgis0001_ds231_1993_state.csv', 'nhgis0001_csv/nhgis0001_ds231_2000_county.csv', 'nhgis0001_csv/nhgis0001_ds231_1992_county_codebook.txt', 'nhgis0001_csv/nhgis0001_ds231_2005_county.csv', 'nhgis0001_csv/nhgis0001_ds231_2001_county_codebook.txt', 'nhgis0001_csv/nhgis0001_ds231_2003_county_codebook.txt', 'nhgis0001_csv/nhgis0001_ds231_1990_state_codebook.txt', 'nhgis0001_csv/nhgis0001_ds231_1997_county_codebook.txt', 'nhgis0001_csv/nhgis0001_ds215_20155_2015_state.csv', 'nhgis0001_csv/nhgis0001_ds231_2006_county.csv', 'nhgis0001_csv/nhgis0001_ds231_1995_county_codebook.txt', 'nhgis0001_csv/nhgis0001_ds231_2000_state.csv', 'nhgis0001_csv/nhgis0001_ds231_2005_state_codebook.txt', 'nhgis0001_csv/nhgis0001_ds231_1996_state.csv', 'nhgis0001_csv/nhgis0001_ds231_1985_state_codebook.txt', 'nhgis0001_csv/nhgis0001_ds231_1985_state.csv', 'nhgis0001_csv/nhgis0001_ds231_1994_state.csv', 'nhgis0001_csv/nhgis0001_ds231_1980_state.csv', 'nhgis0001_csv/nhgis0001_ds231_1980_county.csv', 'nhgis0001_csv/nhgis0001_ds231_1994_state_codebook.txt', 'nhgis0001_csv/nhgis0001_ds231_2002_state_codebook.txt', 'nhgis0001_csv/nhgis0001_ds231_1991_state_codebook.txt', 'nhgis0001_csv/nhgis0001_ds231_1990_county.csv', 'nhgis0001_csv/nhgis0001_ds231_2003_county.csv', 'nhgis0001_csv/nhgis0001_ds231_1975_county.csv', 'nhgis0001_csv/nhgis0001_ds231_2002_county.csv', 'nhgis0001_csv/nhgis0001_ds231_1997_county.csv', 'nhgis0001_csv/nhgis0001_ds231_1970_county_codebook.txt', 'nhgis0001_csv/nhgis0001_ds231_1980_county_codebook.txt', 'nhgis0001_csv/nhgis0001_ds231_2003_state.csv', 'nhgis0001_csv/nhgis0001_ds231_1998_state.csv', 'nhgis0001_csv/nhgis0001_ds231_2007_state.csv', 'nhgis0001_csv/nhgis0001_ds231_1991_state.csv', 'nhgis0001_csv/nhgis0001_ds231_2006_county_codebook.txt', 'nhgis0001_csv/nhgis0001_ds231_1999_state_codebook.txt', 'nhgis0001_csv/nhgis0001_ds231_1994_county_codebook.txt', 'nhgis0001_csv/nhgis0001_ds231_1995_county.csv', 'nhgis0001_csv/nhgis0001_ds231_1994_county.csv', 'nhgis0001_csv/nhgis0001_ds231_1990_county_codebook.txt', 'nhgis0001_csv/nhgis0001_ds231_1991_county_codebook.txt', 'nhgis0001_csv/nhgis0001_ds184_20115_2011_state_codebook.txt', 'nhgis0001_csv/nhgis0001_ds231_2004_state_codebook.txt', 'nhgis0001_csv/nhgis0001_ds231_2001_state.csv', 'nhgis0001_csv/nhgis0001_ds231_2002_county_codebook.txt', 'nhgis0001_csv/nhgis0001_ds231_1998_state_codebook.txt', 'nhgis0001_csv/nhgis0001_ds215_20155_2015_state_codebook.txt', 'nhgis0001_csv/nhgis0001_ds231_1995_state.csv', 'nhgis0001_csv/nhgis0001_ds231_2003_state_codebook.txt', 'nhgis0001_csv/nhgis0001_ds231_1985_county_codebook.txt', 'nhgis0001_csv/nhgis0001_ds231_1992_state_codebook.txt', 'nhgis0001_csv/nhgis0001_ds231_1995_state_codebook.txt', 'nhgis0001_csv/nhgis0001_ds231_1999_county_codebook.txt', 'nhgis0001_csv/nhgis0001_ds231_2006_state.csv', 'nhgis0001_csv/nhgis0001_ds231_1996_state_codebook.txt', 'nhgis0001_csv/nhgis0001_ds215_20155_2015_county_codebook.txt', 'nhgis0001_csv/nhgis0001_ds231_2000_county_codebook.txt', 'nhgis0001_csv/nhgis0001_ds231_1992_county.csv', 'nhgis0001_csv/nhgis0001_ds231_2006_state_codebook.txt', 'nhgis0001_csv/nhgis0001_ds231_1985_county.csv', 'nhgis0001_csv/nhgis0001_ds231_1993_state_codebook.txt', 'nhgis0001_csv/nhgis0001_ds231_2005_county_codebook.txt', 'nhgis0001_csv/nhgis0001_ds231_1998_county.csv', 'nhgis0001_csv/nhgis0001_ds231_2002_state.csv', 'nhgis0001_csv/nhgis0001_ds231_1980_state_codebook.txt', 'nhgis0001_csv/nhgis0001_ds231_1975_county_codebook.txt', 'nhgis0001_csv/nhgis0001_ds231_1970_state_codebook.txt', 'nhgis0001_csv/nhgis0001_ds231_2004_state.csv', 'nhgis0001_csv/nhgis0001_ds231_2004_county.csv', 'nhgis0001_csv/nhgis0001_ds231_2004_county_codebook.txt', 'nhgis0001_csv/nhgis0001_ds231_1993_county_codebook.txt', 'nhgis0001_csv/nhgis0001_ds231_1997_state.csv', 'nhgis0001_csv/nhgis0001_ds184_20115_2011_county.csv', 'nhgis0001_csv/nhgis0001_ds231_1970_county.csv', 'nhgis0001_csv/nhgis0001_ds231_2007_county.csv', 'nhgis0001_csv/nhgis0001_ds231_2000_state_codebook.txt', 'nhgis0001_csv/nhgis0001_ds231_1992_state.csv', 'nhgis0001_csv/nhgis0001_ds231_2007_county_codebook.txt', 'nhgis0001_csv/nhgis0001_ds231_1998_county_codebook.txt']\")",
     "output_type": "error",
     "traceback": [
      "\u001b[0;31m---------------------------------------------------------------------------\u001b[0m",
      "\u001b[0;31mValueError\u001b[0m                                Traceback (most recent call last)",
      "\u001b[0;32m<ipython-input-9-f12d7b9bf3d7>\u001b[0m in \u001b[0;36m<module>\u001b[0;34m()\u001b[0m\n\u001b[0;32m----> 1\u001b[0;31m \u001b[0mpop2\u001b[0m \u001b[0;34m=\u001b[0m \u001b[0mpd\u001b[0m\u001b[0;34m.\u001b[0m\u001b[0mread_csv\u001b[0m\u001b[0;34m(\u001b[0m\u001b[0;34m'Desktop/data_science_python/project/nhgis0001_csv.zip'\u001b[0m\u001b[0;34m)\u001b[0m\u001b[0;34m\u001b[0m\u001b[0m\n\u001b[0m",
      "\u001b[0;32m/usr/local/lib/python3.6/site-packages/pandas/io/parsers.py\u001b[0m in \u001b[0;36mparser_f\u001b[0;34m(filepath_or_buffer, sep, delimiter, header, names, index_col, usecols, squeeze, prefix, mangle_dupe_cols, dtype, engine, converters, true_values, false_values, skipinitialspace, skiprows, skipfooter, nrows, na_values, keep_default_na, na_filter, verbose, skip_blank_lines, parse_dates, infer_datetime_format, keep_date_col, date_parser, dayfirst, cache_dates, iterator, chunksize, compression, thousands, decimal, lineterminator, quotechar, quoting, doublequote, escapechar, comment, encoding, dialect, error_bad_lines, warn_bad_lines, delim_whitespace, low_memory, memory_map, float_precision)\u001b[0m\n\u001b[1;32m    683\u001b[0m         )\n\u001b[1;32m    684\u001b[0m \u001b[0;34m\u001b[0m\u001b[0m\n\u001b[0;32m--> 685\u001b[0;31m         \u001b[0;32mreturn\u001b[0m \u001b[0m_read\u001b[0m\u001b[0;34m(\u001b[0m\u001b[0mfilepath_or_buffer\u001b[0m\u001b[0;34m,\u001b[0m \u001b[0mkwds\u001b[0m\u001b[0;34m)\u001b[0m\u001b[0;34m\u001b[0m\u001b[0m\n\u001b[0m\u001b[1;32m    686\u001b[0m \u001b[0;34m\u001b[0m\u001b[0m\n\u001b[1;32m    687\u001b[0m     \u001b[0mparser_f\u001b[0m\u001b[0;34m.\u001b[0m\u001b[0m__name__\u001b[0m \u001b[0;34m=\u001b[0m \u001b[0mname\u001b[0m\u001b[0;34m\u001b[0m\u001b[0m\n",
      "\u001b[0;32m/usr/local/lib/python3.6/site-packages/pandas/io/parsers.py\u001b[0m in \u001b[0;36m_read\u001b[0;34m(filepath_or_buffer, kwds)\u001b[0m\n\u001b[1;32m    455\u001b[0m \u001b[0;34m\u001b[0m\u001b[0m\n\u001b[1;32m    456\u001b[0m     \u001b[0;31m# Create the parser.\u001b[0m\u001b[0;34m\u001b[0m\u001b[0;34m\u001b[0m\u001b[0m\n\u001b[0;32m--> 457\u001b[0;31m     \u001b[0mparser\u001b[0m \u001b[0;34m=\u001b[0m \u001b[0mTextFileReader\u001b[0m\u001b[0;34m(\u001b[0m\u001b[0mfp_or_buf\u001b[0m\u001b[0;34m,\u001b[0m \u001b[0;34m**\u001b[0m\u001b[0mkwds\u001b[0m\u001b[0;34m)\u001b[0m\u001b[0;34m\u001b[0m\u001b[0m\n\u001b[0m\u001b[1;32m    458\u001b[0m \u001b[0;34m\u001b[0m\u001b[0m\n\u001b[1;32m    459\u001b[0m     \u001b[0;32mif\u001b[0m \u001b[0mchunksize\u001b[0m \u001b[0;32mor\u001b[0m \u001b[0miterator\u001b[0m\u001b[0;34m:\u001b[0m\u001b[0;34m\u001b[0m\u001b[0m\n",
      "\u001b[0;32m/usr/local/lib/python3.6/site-packages/pandas/io/parsers.py\u001b[0m in \u001b[0;36m__init__\u001b[0;34m(self, f, engine, **kwds)\u001b[0m\n\u001b[1;32m    893\u001b[0m             \u001b[0mself\u001b[0m\u001b[0;34m.\u001b[0m\u001b[0moptions\u001b[0m\u001b[0;34m[\u001b[0m\u001b[0;34m\"has_index_names\"\u001b[0m\u001b[0;34m]\u001b[0m \u001b[0;34m=\u001b[0m \u001b[0mkwds\u001b[0m\u001b[0;34m[\u001b[0m\u001b[0;34m\"has_index_names\"\u001b[0m\u001b[0;34m]\u001b[0m\u001b[0;34m\u001b[0m\u001b[0m\n\u001b[1;32m    894\u001b[0m \u001b[0;34m\u001b[0m\u001b[0m\n\u001b[0;32m--> 895\u001b[0;31m         \u001b[0mself\u001b[0m\u001b[0;34m.\u001b[0m\u001b[0m_make_engine\u001b[0m\u001b[0;34m(\u001b[0m\u001b[0mself\u001b[0m\u001b[0;34m.\u001b[0m\u001b[0mengine\u001b[0m\u001b[0;34m)\u001b[0m\u001b[0;34m\u001b[0m\u001b[0m\n\u001b[0m\u001b[1;32m    896\u001b[0m \u001b[0;34m\u001b[0m\u001b[0m\n\u001b[1;32m    897\u001b[0m     \u001b[0;32mdef\u001b[0m \u001b[0mclose\u001b[0m\u001b[0;34m(\u001b[0m\u001b[0mself\u001b[0m\u001b[0;34m)\u001b[0m\u001b[0;34m:\u001b[0m\u001b[0;34m\u001b[0m\u001b[0m\n",
      "\u001b[0;32m/usr/local/lib/python3.6/site-packages/pandas/io/parsers.py\u001b[0m in \u001b[0;36m_make_engine\u001b[0;34m(self, engine)\u001b[0m\n\u001b[1;32m   1133\u001b[0m     \u001b[0;32mdef\u001b[0m \u001b[0m_make_engine\u001b[0m\u001b[0;34m(\u001b[0m\u001b[0mself\u001b[0m\u001b[0;34m,\u001b[0m \u001b[0mengine\u001b[0m\u001b[0;34m=\u001b[0m\u001b[0;34m\"c\"\u001b[0m\u001b[0;34m)\u001b[0m\u001b[0;34m:\u001b[0m\u001b[0;34m\u001b[0m\u001b[0m\n\u001b[1;32m   1134\u001b[0m         \u001b[0;32mif\u001b[0m \u001b[0mengine\u001b[0m \u001b[0;34m==\u001b[0m \u001b[0;34m\"c\"\u001b[0m\u001b[0;34m:\u001b[0m\u001b[0;34m\u001b[0m\u001b[0m\n\u001b[0;32m-> 1135\u001b[0;31m             \u001b[0mself\u001b[0m\u001b[0;34m.\u001b[0m\u001b[0m_engine\u001b[0m \u001b[0;34m=\u001b[0m \u001b[0mCParserWrapper\u001b[0m\u001b[0;34m(\u001b[0m\u001b[0mself\u001b[0m\u001b[0;34m.\u001b[0m\u001b[0mf\u001b[0m\u001b[0;34m,\u001b[0m \u001b[0;34m**\u001b[0m\u001b[0mself\u001b[0m\u001b[0;34m.\u001b[0m\u001b[0moptions\u001b[0m\u001b[0;34m)\u001b[0m\u001b[0;34m\u001b[0m\u001b[0m\n\u001b[0m\u001b[1;32m   1136\u001b[0m         \u001b[0;32melse\u001b[0m\u001b[0;34m:\u001b[0m\u001b[0;34m\u001b[0m\u001b[0m\n\u001b[1;32m   1137\u001b[0m             \u001b[0;32mif\u001b[0m \u001b[0mengine\u001b[0m \u001b[0;34m==\u001b[0m \u001b[0;34m\"python\"\u001b[0m\u001b[0;34m:\u001b[0m\u001b[0;34m\u001b[0m\u001b[0m\n",
      "\u001b[0;32m/usr/local/lib/python3.6/site-packages/pandas/io/parsers.py\u001b[0m in \u001b[0;36m__init__\u001b[0;34m(self, src, **kwds)\u001b[0m\n\u001b[1;32m   1915\u001b[0m         \u001b[0mkwds\u001b[0m\u001b[0;34m[\u001b[0m\u001b[0;34m\"usecols\"\u001b[0m\u001b[0;34m]\u001b[0m \u001b[0;34m=\u001b[0m \u001b[0mself\u001b[0m\u001b[0;34m.\u001b[0m\u001b[0musecols\u001b[0m\u001b[0;34m\u001b[0m\u001b[0m\n\u001b[1;32m   1916\u001b[0m \u001b[0;34m\u001b[0m\u001b[0m\n\u001b[0;32m-> 1917\u001b[0;31m         \u001b[0mself\u001b[0m\u001b[0;34m.\u001b[0m\u001b[0m_reader\u001b[0m \u001b[0;34m=\u001b[0m \u001b[0mparsers\u001b[0m\u001b[0;34m.\u001b[0m\u001b[0mTextReader\u001b[0m\u001b[0;34m(\u001b[0m\u001b[0msrc\u001b[0m\u001b[0;34m,\u001b[0m \u001b[0;34m**\u001b[0m\u001b[0mkwds\u001b[0m\u001b[0;34m)\u001b[0m\u001b[0;34m\u001b[0m\u001b[0m\n\u001b[0m\u001b[1;32m   1918\u001b[0m         \u001b[0mself\u001b[0m\u001b[0;34m.\u001b[0m\u001b[0munnamed_cols\u001b[0m \u001b[0;34m=\u001b[0m \u001b[0mself\u001b[0m\u001b[0;34m.\u001b[0m\u001b[0m_reader\u001b[0m\u001b[0;34m.\u001b[0m\u001b[0munnamed_cols\u001b[0m\u001b[0;34m\u001b[0m\u001b[0m\n\u001b[1;32m   1919\u001b[0m \u001b[0;34m\u001b[0m\u001b[0m\n",
      "\u001b[0;32mpandas/_libs/parsers.pyx\u001b[0m in \u001b[0;36mpandas._libs.parsers.TextReader.__cinit__\u001b[0;34m()\u001b[0m\n",
      "\u001b[0;32mpandas/_libs/parsers.pyx\u001b[0m in \u001b[0;36mpandas._libs.parsers.TextReader._setup_parser_source\u001b[0;34m()\u001b[0m\n",
      "\u001b[0;31mValueError\u001b[0m: ('Multiple files found in compressed zip file %s', \"['nhgis0001_csv/nhgis0001_ds184_20115_2011_county_codebook.txt', 'nhgis0001_csv/nhgis0001_ds231_1990_state.csv', 'nhgis0001_csv/nhgis0001_ds231_1970_state.csv', 'nhgis0001_csv/nhgis0001_ds184_20115_2011_state.csv', 'nhgis0001_csv/nhgis0001_ds231_1997_state_codebook.txt', 'nhgis0001_csv/nhgis0001_ds231_1975_state.csv', 'nhgis0001_csv/nhgis0001_ds231_2001_state_codebook.txt', 'nhgis0001_csv/nhgis0001_ds231_1975_state_codebook.txt', 'nhgis0001_csv/nhgis0001_ds231_1991_county.csv', 'nhgis0001_csv/nhgis0001_ds231_1993_county.csv', 'nhgis0001_csv/nhgis0001_ds231_1996_county_codebook.txt', 'nhgis0001_csv/nhgis0001_ds215_20155_2015_county.csv', 'nhgis0001_csv/nhgis0001_ds231_1999_state.csv', 'nhgis0001_csv/nhgis0001_ds231_1996_county.csv', 'nhgis0001_csv/nhgis0001_ds231_1999_county.csv', 'nhgis0001_csv/nhgis0001_ds231_2001_county.csv', 'nhgis0001_csv/nhgis0001_ds231_2007_state_codebook.txt', 'nhgis0001_csv/nhgis0001_ds231_2005_state.csv', 'nhgis0001_csv/nhgis0001_ds231_1993_state.csv', 'nhgis0001_csv/nhgis0001_ds231_2000_county.csv', 'nhgis0001_csv/nhgis0001_ds231_1992_county_codebook.txt', 'nhgis0001_csv/nhgis0001_ds231_2005_county.csv', 'nhgis0001_csv/nhgis0001_ds231_2001_county_codebook.txt', 'nhgis0001_csv/nhgis0001_ds231_2003_county_codebook.txt', 'nhgis0001_csv/nhgis0001_ds231_1990_state_codebook.txt', 'nhgis0001_csv/nhgis0001_ds231_1997_county_codebook.txt', 'nhgis0001_csv/nhgis0001_ds215_20155_2015_state.csv', 'nhgis0001_csv/nhgis0001_ds231_2006_county.csv', 'nhgis0001_csv/nhgis0001_ds231_1995_county_codebook.txt', 'nhgis0001_csv/nhgis0001_ds231_2000_state.csv', 'nhgis0001_csv/nhgis0001_ds231_2005_state_codebook.txt', 'nhgis0001_csv/nhgis0001_ds231_1996_state.csv', 'nhgis0001_csv/nhgis0001_ds231_1985_state_codebook.txt', 'nhgis0001_csv/nhgis0001_ds231_1985_state.csv', 'nhgis0001_csv/nhgis0001_ds231_1994_state.csv', 'nhgis0001_csv/nhgis0001_ds231_1980_state.csv', 'nhgis0001_csv/nhgis0001_ds231_1980_county.csv', 'nhgis0001_csv/nhgis0001_ds231_1994_state_codebook.txt', 'nhgis0001_csv/nhgis0001_ds231_2002_state_codebook.txt', 'nhgis0001_csv/nhgis0001_ds231_1991_state_codebook.txt', 'nhgis0001_csv/nhgis0001_ds231_1990_county.csv', 'nhgis0001_csv/nhgis0001_ds231_2003_county.csv', 'nhgis0001_csv/nhgis0001_ds231_1975_county.csv', 'nhgis0001_csv/nhgis0001_ds231_2002_county.csv', 'nhgis0001_csv/nhgis0001_ds231_1997_county.csv', 'nhgis0001_csv/nhgis0001_ds231_1970_county_codebook.txt', 'nhgis0001_csv/nhgis0001_ds231_1980_county_codebook.txt', 'nhgis0001_csv/nhgis0001_ds231_2003_state.csv', 'nhgis0001_csv/nhgis0001_ds231_1998_state.csv', 'nhgis0001_csv/nhgis0001_ds231_2007_state.csv', 'nhgis0001_csv/nhgis0001_ds231_1991_state.csv', 'nhgis0001_csv/nhgis0001_ds231_2006_county_codebook.txt', 'nhgis0001_csv/nhgis0001_ds231_1999_state_codebook.txt', 'nhgis0001_csv/nhgis0001_ds231_1994_county_codebook.txt', 'nhgis0001_csv/nhgis0001_ds231_1995_county.csv', 'nhgis0001_csv/nhgis0001_ds231_1994_county.csv', 'nhgis0001_csv/nhgis0001_ds231_1990_county_codebook.txt', 'nhgis0001_csv/nhgis0001_ds231_1991_county_codebook.txt', 'nhgis0001_csv/nhgis0001_ds184_20115_2011_state_codebook.txt', 'nhgis0001_csv/nhgis0001_ds231_2004_state_codebook.txt', 'nhgis0001_csv/nhgis0001_ds231_2001_state.csv', 'nhgis0001_csv/nhgis0001_ds231_2002_county_codebook.txt', 'nhgis0001_csv/nhgis0001_ds231_1998_state_codebook.txt', 'nhgis0001_csv/nhgis0001_ds215_20155_2015_state_codebook.txt', 'nhgis0001_csv/nhgis0001_ds231_1995_state.csv', 'nhgis0001_csv/nhgis0001_ds231_2003_state_codebook.txt', 'nhgis0001_csv/nhgis0001_ds231_1985_county_codebook.txt', 'nhgis0001_csv/nhgis0001_ds231_1992_state_codebook.txt', 'nhgis0001_csv/nhgis0001_ds231_1995_state_codebook.txt', 'nhgis0001_csv/nhgis0001_ds231_1999_county_codebook.txt', 'nhgis0001_csv/nhgis0001_ds231_2006_state.csv', 'nhgis0001_csv/nhgis0001_ds231_1996_state_codebook.txt', 'nhgis0001_csv/nhgis0001_ds215_20155_2015_county_codebook.txt', 'nhgis0001_csv/nhgis0001_ds231_2000_county_codebook.txt', 'nhgis0001_csv/nhgis0001_ds231_1992_county.csv', 'nhgis0001_csv/nhgis0001_ds231_2006_state_codebook.txt', 'nhgis0001_csv/nhgis0001_ds231_1985_county.csv', 'nhgis0001_csv/nhgis0001_ds231_1993_state_codebook.txt', 'nhgis0001_csv/nhgis0001_ds231_2005_county_codebook.txt', 'nhgis0001_csv/nhgis0001_ds231_1998_county.csv', 'nhgis0001_csv/nhgis0001_ds231_2002_state.csv', 'nhgis0001_csv/nhgis0001_ds231_1980_state_codebook.txt', 'nhgis0001_csv/nhgis0001_ds231_1975_county_codebook.txt', 'nhgis0001_csv/nhgis0001_ds231_1970_state_codebook.txt', 'nhgis0001_csv/nhgis0001_ds231_2004_state.csv', 'nhgis0001_csv/nhgis0001_ds231_2004_county.csv', 'nhgis0001_csv/nhgis0001_ds231_2004_county_codebook.txt', 'nhgis0001_csv/nhgis0001_ds231_1993_county_codebook.txt', 'nhgis0001_csv/nhgis0001_ds231_1997_state.csv', 'nhgis0001_csv/nhgis0001_ds184_20115_2011_county.csv', 'nhgis0001_csv/nhgis0001_ds231_1970_county.csv', 'nhgis0001_csv/nhgis0001_ds231_2007_county.csv', 'nhgis0001_csv/nhgis0001_ds231_2000_state_codebook.txt', 'nhgis0001_csv/nhgis0001_ds231_1992_state.csv', 'nhgis0001_csv/nhgis0001_ds231_2007_county_codebook.txt', 'nhgis0001_csv/nhgis0001_ds231_1998_county_codebook.txt']\")"
     ]
    }
   ],
   "source": [
    " pop2 = pd.read_csv('Desktop/data_science_python/project/nhgis0001_csv.zip')"
   ]
  },
  {
   "cell_type": "code",
   "execution_count": null,
   "metadata": {},
   "outputs": [],
   "source": []
  }
 ],
 "metadata": {
  "kernelspec": {
   "display_name": "Python 3",
   "language": "python",
   "name": "python3"
  },
  "language_info": {
   "codemirror_mode": {
    "name": "ipython",
    "version": 3
   },
   "file_extension": ".py",
   "mimetype": "text/x-python",
   "name": "python",
   "nbconvert_exporter": "python",
   "pygments_lexer": "ipython3",
   "version": "3.7.4"
  }
 },
 "nbformat": 4,
 "nbformat_minor": 4
}
